{
 "cells": [
  {
   "cell_type": "markdown",
   "metadata": {},
   "source": [
    "just testing the api and use of curl"
   ]
  },
  {
   "cell_type": "code",
   "execution_count": 15,
   "metadata": {},
   "outputs": [],
   "source": [
    "import requests, json, base64\n",
    "from requests.auth import HTTPBasicAuth"
   ]
  },
  {
   "cell_type": "code",
   "execution_count": 28,
   "metadata": {
    "collapsed": true
   },
   "outputs": [],
   "source": [
    "url = 'http://smartvision.aiam-dh.com:8080/api/v1.0/tasks'\n",
    "authorization = HTTPBasicAuth('demo3','hackathon6483')"
   ]
  },
  {
   "cell_type": "code",
   "execution_count": 40,
   "metadata": {},
   "outputs": [
    {
     "data": {
      "text/plain": [
       "''"
      ]
     },
     "execution_count": 40,
     "metadata": {},
     "output_type": "execute_result"
    }
   ],
   "source": [
    "requests.head(\n",
    "    url,\n",
    "    auth=authorization\n",
    ")"
   ]
  },
  {
   "cell_type": "code",
   "execution_count": 27,
   "metadata": {},
   "outputs": [
    {
     "data": {
      "text/plain": [
       "<Response [404]>"
      ]
     },
     "execution_count": 27,
     "metadata": {},
     "output_type": "execute_result"
    }
   ],
   "source": [
    "\n",
    "image = 'sample images/pantry.jpeg'\n",
    "with open(image, 'rb') as image_file:\n",
    "    payload = base64.b64encode(image_file.read())\n",
    "requests.post(\n",
    "    url,\n",
    "    auth=HTTPBasicAuth('demo3', 'hackathon6483'),\n",
    "    data=json.dumps({'service':'tagging1', 'image':str(payload)[2:][:-1]}),\n",
    "    headers={'content-type': 'application/json', 'Accept-Charset': 'UTF-8'}\n",
    ")\n"
   ]
  }
 ],
 "metadata": {
  "kernelspec": {
   "display_name": "Python 3",
   "language": "python",
   "name": "python3"
  },
  "language_info": {
   "codemirror_mode": {
    "name": "ipython",
    "version": 3
   },
   "file_extension": ".py",
   "mimetype": "text/x-python",
   "name": "python",
   "nbconvert_exporter": "python",
   "pygments_lexer": "ipython3",
   "version": "3.6.1"
  }
 },
 "nbformat": 4,
 "nbformat_minor": 2
}
