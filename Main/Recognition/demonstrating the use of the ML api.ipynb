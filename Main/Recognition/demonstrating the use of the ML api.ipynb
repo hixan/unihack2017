{
 "cells": [
  {
   "cell_type": "markdown",
   "metadata": {},
   "source": [
    "just testing the api and use of curl"
   ]
  },
  {
   "cell_type": "code",
   "execution_count": 135,
   "metadata": {
    "collapsed": true
   },
   "outputs": [],
   "source": [
    "import requests, json, base64, re, os\n",
    "from requests.auth import HTTPBasicAuth"
   ]
  },
  {
   "cell_type": "code",
   "execution_count": 97,
   "metadata": {
    "collapsed": true
   },
   "outputs": [],
   "source": [
    "url = 'http://smartvision.aiam-dh.com:8080/api/v1.0'\n",
    "authorization = HTTPBasicAuth('demo3','hackathon6483')"
   ]
  },
  {
   "cell_type": "markdown",
   "metadata": {},
   "source": [
    "**upload an image through the API:**"
   ]
  },
  {
   "cell_type": "code",
   "execution_count": 128,
   "metadata": {},
   "outputs": [
    {
     "name": "stdout",
     "output_type": "stream",
     "text": [
      "<Response [201]> {\n",
      "  \"task\": {\n",
      "    \"confidence\": \"\", \n",
      "    \"description\": \"\", \n",
      "    \"image\": \"Uploaded\", \n",
      "    \"scanned\": false, \n",
      "    \"service\": \"tagging3\", \n",
      "    \"uri\": \"http://smartvision.aiam-dh.com:8080/api/v1.0/tasks/52\", \n",
      "    \"userid\": 13\n",
      "  }\n",
      "}\n",
      "\n"
     ]
    }
   ],
   "source": [
    "\n",
    "image = 'sample images/fridge2.jpg'\n",
    "with open(image, 'rb') as image_file:\n",
    "    payload = base64.b64encode(image_file.read())\n",
    "r_upload = requests.post(\n",
    "    url+'/tasks',\n",
    "    auth=authorization,\n",
    "    data=json.dumps({'service':'tagging3', 'image':str(payload)[2:-1]}),\n",
    "    headers={'content-type': 'application/json', 'Accept-Charset': 'UTF-8'}\n",
    ")\n",
    "print(r_upload, r_upload.text)"
   ]
  },
  {
   "cell_type": "markdown",
   "metadata": {},
   "source": [
    "**find the ID of this image**"
   ]
  },
  {
   "cell_type": "code",
   "execution_count": 129,
   "metadata": {},
   "outputs": [],
   "source": [
    "im_id = re.search(r'\\d+$', r_upload.json()['task']['uri']).group(0)"
   ]
  },
  {
   "cell_type": "markdown",
   "metadata": {},
   "source": [
    "**run the analysis on the image**"
   ]
  },
  {
   "cell_type": "code",
   "execution_count": 130,
   "metadata": {},
   "outputs": [
    {
     "name": "stdout",
     "output_type": "stream",
     "text": [
      "<Response [200]> {\n",
      "  \"task\": {\n",
      "    \"confidence\": [\n",
      "      \"81.0\", \n",
      "      \"49.0\", \n",
      "      \"26.0\", \n",
      "      \"36.0\", \n",
      "      \"58.0\", \n",
      "      \"59.0\", \n",
      "      \"58.0\", \n",
      "      \"40.0\", \n",
      "      \"37.0\", \n",
      "      \"57.0\", \n",
      "      \"51.0\", \n",
      "      \"68.0\", \n",
      "      \"30.0\", \n",
      "      \"81.0\"\n",
      "    ], \n",
      "    \"description\": [\n",
      "      \"bottle\", \n",
      "      \"orange\", \n",
      "      \"apple\", \n",
      "      \"apple\", \n",
      "      \"orange\", \n",
      "      \"orange\", \n",
      "      \"apple\", \n",
      "      \"apple\", \n",
      "      \"carrot\", \n",
      "      \"carrot\", \n",
      "      \"apple\", \n",
      "      \"apple\", \n",
      "      \"carrot\", \n",
      "      \"bowl\"\n",
      "    ], \n",
      "    \"image\": \"Uploaded\", \n",
      "    \"scanned\": true, \n",
      "    \"service\": \"tagging3\", \n",
      "    \"uri\": \"http://smartvision.aiam-dh.com:8080/api/v1.0/tasks/52\", \n",
      "    \"userid\": 13\n",
      "  }\n",
      "}\n",
      "\n",
      "52\n"
     ]
    }
   ],
   "source": [
    "r_run = requests.put(\n",
    "    url+'/tasks/run/'+im_id,\n",
    "    auth=authorization,\n",
    "    headers={'content-type': 'application/json', 'Accept-Charset': 'UTF-8'},\n",
    "    data=json.dumps({'scanned':True})\n",
    ")\n",
    "print(r_run, r_run.text)\n",
    "print(im_id)"
   ]
  },
  {
   "cell_type": "markdown",
   "metadata": {},
   "source": [
    "**get the information from the analysis**"
   ]
  },
  {
   "cell_type": "code",
   "execution_count": 131,
   "metadata": {},
   "outputs": [
    {
     "name": "stdout",
     "output_type": "stream",
     "text": [
      "<Response [200]> {\n",
      "  \"task\": {\n",
      "    \"confidence\": [\n",
      "      \"81.0\", \n",
      "      \"49.0\", \n",
      "      \"26.0\", \n",
      "      \"36.0\", \n",
      "      \"58.0\", \n",
      "      \"59.0\", \n",
      "      \"58.0\", \n",
      "      \"40.0\", \n",
      "      \"37.0\", \n",
      "      \"57.0\", \n",
      "      \"51.0\", \n",
      "      \"68.0\", \n",
      "      \"30.0\", \n",
      "      \"81.0\"\n",
      "    ], \n",
      "    \"description\": [\n",
      "      \"bottle\", \n",
      "      \"orange\", \n",
      "      \"apple\", \n",
      "      \"apple\", \n",
      "      \"orange\", \n",
      "      \"orange\", \n",
      "      \"apple\", \n",
      "      \"apple\", \n",
      "      \"carrot\", \n",
      "      \"carrot\", \n",
      "      \"apple\", \n",
      "      \"apple\", \n",
      "      \"carrot\", \n",
      "      \"bowl\"\n",
      "    ], \n",
      "    \"image\": \"Uploaded\", \n",
      "    \"scanned\": true, \n",
      "    \"service\": \"tagging3\", \n",
      "    \"uri\": \"http://smartvision.aiam-dh.com:8080/api/v1.0/tasks/52\", \n",
      "    \"userid\": 13\n",
      "  }\n",
      "}\n",
      "\n"
     ]
    }
   ],
   "source": [
    "r_complete = requests.get(\n",
    "    url+'/tasks/'+im_id,\n",
    "    auth=authorization,\n",
    "    headers={'content-type': 'application/json', 'Accept-Charset': 'UTF-8'},\n",
    ")\n",
    "print(r_complete, r_complete.text)"
   ]
  },
  {
   "cell_type": "markdown",
   "metadata": {},
   "source": [
    "**delete the image after its finished with**"
   ]
  },
  {
   "cell_type": "code",
   "execution_count": 132,
   "metadata": {},
   "outputs": [
    {
     "name": "stdout",
     "output_type": "stream",
     "text": [
      "<Response [200]> {\n",
      "  \"result\": true\n",
      "}\n",
      " 52\n"
     ]
    }
   ],
   "source": [
    "r_delete = requests.delete(\n",
    "    url+'/tasks/'+im_id,\n",
    "    auth=authorization,\n",
    "    headers={'content-type': 'application/json', 'Accept-Charset': 'UTF-8'}\n",
    ")\n",
    "print(r_delete, r_delete.text, im_id)"
   ]
  },
  {
   "cell_type": "markdown",
   "metadata": {},
   "source": [
    "**find the required tags from the analysis**"
   ]
  },
  {
   "cell_type": "code",
   "execution_count": 133,
   "metadata": {},
   "outputs": [
    {
     "data": {
      "text/plain": [
       "['bottle',\n",
       " 'orange',\n",
       " 'apple',\n",
       " 'apple',\n",
       " 'orange',\n",
       " 'orange',\n",
       " 'apple',\n",
       " 'apple',\n",
       " 'carrot',\n",
       " 'carrot',\n",
       " 'apple',\n",
       " 'apple',\n",
       " 'carrot',\n",
       " 'bowl']"
      ]
     },
     "execution_count": 133,
     "metadata": {},
     "output_type": "execute_result"
    }
   ],
   "source": [
    "r_run.json()['task']['description']"
   ]
  },
  {
   "cell_type": "code",
   "execution_count": 137,
   "metadata": {},
   "outputs": [
    {
     "data": {
      "text/plain": [
       "'C:\\\\Users\\\\alex\\\\Documents\\\\unihack2017\\\\Main\\\\Recognition'"
      ]
     },
     "execution_count": 137,
     "metadata": {},
     "output_type": "execute_result"
    }
   ],
   "source": [
    "os.path.dirname(os.path.realpath(__name__))"
   ]
  },
  {
   "cell_type": "code",
   "execution_count": null,
   "metadata": {
    "collapsed": true
   },
   "outputs": [],
   "source": []
  }
 ],
 "metadata": {
  "kernelspec": {
   "display_name": "Python 3",
   "language": "python",
   "name": "python3"
  },
  "language_info": {
   "codemirror_mode": {
    "name": "ipython",
    "version": 3
   },
   "file_extension": ".py",
   "mimetype": "text/x-python",
   "name": "python",
   "nbconvert_exporter": "python",
   "pygments_lexer": "ipython3",
   "version": "3.6.1"
  }
 },
 "nbformat": 4,
 "nbformat_minor": 2
}
