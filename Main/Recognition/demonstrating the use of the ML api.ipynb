{
 "cells": [
  {
   "cell_type": "markdown",
   "metadata": {},
   "source": [
    "just testing the api and use of curl"
   ]
  },
  {
   "cell_type": "code",
   "execution_count": 1,
   "metadata": {
    "collapsed": true
   },
   "outputs": [],
   "source": [
    "import requests, json, base64, re, os\n",
    "from requests.auth import HTTPBasicAuth"
   ]
  },
  {
   "cell_type": "code",
   "execution_count": 2,
   "metadata": {
    "collapsed": true
   },
   "outputs": [],
   "source": [
    "url = 'http://smartvision.aiam-dh.com:8080/api/v1.0'\n",
    "authorization = HTTPBasicAuth('demo3','hackathon6483')"
   ]
  },
  {
   "cell_type": "markdown",
   "metadata": {},
   "source": [
    "**upload an image through the API:**"
   ]
  },
  {
   "cell_type": "code",
   "execution_count": 3,
   "metadata": {},
   "outputs": [
    {
     "name": "stdout",
     "output_type": "stream",
     "text": [
      "<Response [201]> {\n",
      "  \"task\": {\n",
      "    \"confidence\": \"\", \n",
      "    \"description\": \"\", \n",
      "    \"image\": \"Uploaded\", \n",
      "    \"scanned\": false, \n",
      "    \"service\": \"tagging3\", \n",
      "    \"uri\": \"http://smartvision.aiam-dh.com:8080/api/v1.0/tasks/650\", \n",
      "    \"userid\": 13\n",
      "  }\n",
      "}\n",
      "\n"
     ]
    }
   ],
   "source": [
    "\n",
    "image = 'sample images/fridge2.jpg'\n",
    "with open(image, 'rb') as image_file:\n",
    "    payload = base64.b64encode(image_file.read())\n",
    "r_upload = requests.post(\n",
    "    url+'/tasks',\n",
    "    auth=authorization,\n",
    "    data=json.dumps({'service':'tagging3', 'image':str(payload)[2:-1]}),\n",
    "    headers={'content-type': 'application/json', 'Accept-Charset': 'UTF-8'}\n",
    ")\n",
    "print(r_upload, r_upload.text)"
   ]
  },
  {
   "cell_type": "markdown",
   "metadata": {},
   "source": [
    "**find the ID of this image**"
   ]
  },
  {
   "cell_type": "code",
   "execution_count": 4,
   "metadata": {
    "collapsed": true
   },
   "outputs": [],
   "source": [
    "im_id = re.search(r'\\d+$', r_upload.json()['task']['uri']).group(0)"
   ]
  },
  {
   "cell_type": "markdown",
   "metadata": {},
   "source": [
    "**run the analysis on the image**"
   ]
  },
  {
   "cell_type": "code",
   "execution_count": 5,
   "metadata": {},
   "outputs": [
    {
     "name": "stdout",
     "output_type": "stream",
     "text": [
      "<Response [200]> {\n",
      "  \"task\": {\n",
      "    \"confidence\": [\n",
      "      \"49.0\", \n",
      "      \"26.0\", \n",
      "      \"36.0\", \n",
      "      \"58.0\", \n",
      "      \"59.0\", \n",
      "      \"58.0\", \n",
      "      \"40.0\", \n",
      "      \"37.0\", \n",
      "      \"57.0\", \n",
      "      \"51.0\", \n",
      "      \"68.0\", \n",
      "      \"30.0\", \n",
      "      \"81.0\"\n",
      "    ], \n",
      "    \"description\": [\n",
      "      \"orange Bounding Box: Left=1018, Top=258, Right=1145, Bottom=399\", \n",
      "      \"apple Bounding Box: Left=645, Top=351, Right=816, Bottom=495\", \n",
      "      \"apple Bounding Box: Left=753, Top=347, Right=956, Bottom=501\", \n",
      "      \"orange Bounding Box: Left=936, Top=317, Right=1110, Bottom=509\", \n",
      "      \"orange Bounding Box: Left=1069, Top=366, Right=1165, Bottom=525\", \n",
      "      \"apple Bounding Box: Left=625, Top=560, Right=791, Bottom=710\", \n",
      "      \"apple Bounding Box: Left=807, Top=553, Right=1031, Bottom=677\", \n",
      "      \"carrot Bounding Box: Left=5, Top=651, Right=221, Bottom=797\", \n",
      "      \"carrot Bounding Box: Left=75, Top=647, Right=393, Bottom=803\", \n",
      "      \"apple Bounding Box: Left=759, Top=632, Right=947, Bottom=756\", \n",
      "      \"apple Bounding Box: Left=910, Top=624, Right=1093, Bottom=752\", \n",
      "      \"carrot Bounding Box: Left=25, Top=718, Right=256, Bottom=839\", \n",
      "      \"bowl Bounding Box: Left=596, Top=516, Right=1150, Bottom=837\"\n",
      "    ], \n",
      "    \"image\": \"Uploaded\", \n",
      "    \"scanned\": true, \n",
      "    \"service\": \"tagging3\", \n",
      "    \"uri\": \"http://smartvision.aiam-dh.com:8080/api/v1.0/tasks/650\", \n",
      "    \"userid\": 13\n",
      "  }\n",
      "}\n",
      "\n",
      "650\n"
     ]
    }
   ],
   "source": [
    "r_run = requests.put(\n",
    "    url+'/tasks/run/'+im_id,\n",
    "    auth=authorization,\n",
    "    headers={'content-type': 'application/json', 'Accept-Charset': 'UTF-8'},\n",
    "    data=json.dumps({'scanned':True})\n",
    ")\n",
    "print(r_run, r_run.text)\n",
    "print(im_id)"
   ]
  },
  {
   "cell_type": "markdown",
   "metadata": {},
   "source": [
    "**get the information from the analysis**"
   ]
  },
  {
   "cell_type": "code",
   "execution_count": 6,
   "metadata": {},
   "outputs": [
    {
     "name": "stdout",
     "output_type": "stream",
     "text": [
      "<Response [200]> {\n",
      "  \"task\": {\n",
      "    \"confidence\": [\n",
      "      \"49.0\", \n",
      "      \"26.0\", \n",
      "      \"36.0\", \n",
      "      \"58.0\", \n",
      "      \"59.0\", \n",
      "      \"58.0\", \n",
      "      \"40.0\", \n",
      "      \"37.0\", \n",
      "      \"57.0\", \n",
      "      \"51.0\", \n",
      "      \"68.0\", \n",
      "      \"30.0\", \n",
      "      \"81.0\"\n",
      "    ], \n",
      "    \"description\": [\n",
      "      \"orange Bounding Box: Left=1018, Top=258, Right=1145, Bottom=399\", \n",
      "      \"apple Bounding Box: Left=645, Top=351, Right=816, Bottom=495\", \n",
      "      \"apple Bounding Box: Left=753, Top=347, Right=956, Bottom=501\", \n",
      "      \"orange Bounding Box: Left=936, Top=317, Right=1110, Bottom=509\", \n",
      "      \"orange Bounding Box: Left=1069, Top=366, Right=1165, Bottom=525\", \n",
      "      \"apple Bounding Box: Left=625, Top=560, Right=791, Bottom=710\", \n",
      "      \"apple Bounding Box: Left=807, Top=553, Right=1031, Bottom=677\", \n",
      "      \"carrot Bounding Box: Left=5, Top=651, Right=221, Bottom=797\", \n",
      "      \"carrot Bounding Box: Left=75, Top=647, Right=393, Bottom=803\", \n",
      "      \"apple Bounding Box: Left=759, Top=632, Right=947, Bottom=756\", \n",
      "      \"apple Bounding Box: Left=910, Top=624, Right=1093, Bottom=752\", \n",
      "      \"carrot Bounding Box: Left=25, Top=718, Right=256, Bottom=839\", \n",
      "      \"bowl Bounding Box: Left=596, Top=516, Right=1150, Bottom=837\"\n",
      "    ], \n",
      "    \"image\": \"Uploaded\", \n",
      "    \"scanned\": true, \n",
      "    \"service\": \"tagging3\", \n",
      "    \"uri\": \"http://smartvision.aiam-dh.com:8080/api/v1.0/tasks/650\", \n",
      "    \"userid\": 13\n",
      "  }\n",
      "}\n",
      "\n"
     ]
    }
   ],
   "source": [
    "r_complete = requests.get(\n",
    "    url+'/tasks/'+im_id,\n",
    "    auth=authorization,\n",
    "    headers={'content-type': 'application/json', 'Accept-Charset': 'UTF-8'},\n",
    ")\n",
    "print(r_complete, r_complete.text)"
   ]
  },
  {
   "cell_type": "markdown",
   "metadata": {},
   "source": [
    "**delete the image after its finished with**"
   ]
  },
  {
   "cell_type": "code",
   "execution_count": 132,
   "metadata": {},
   "outputs": [
    {
     "name": "stdout",
     "output_type": "stream",
     "text": [
      "<Response [200]> {\n",
      "  \"result\": true\n",
      "}\n",
      " 52\n"
     ]
    }
   ],
   "source": [
    "r_delete = requests.delete(\n",
    "    url+'/tasks/'+im_id,\n",
    "    auth=authorization,\n",
    "    headers={'content-type': 'application/json', 'Accept-Charset': 'UTF-8'}\n",
    ")\n",
    "print(r_delete, r_delete.text, im_id)"
   ]
  },
  {
   "cell_type": "markdown",
   "metadata": {},
   "source": [
    "**find the required tags from the analysis**"
   ]
  },
  {
   "cell_type": "code",
   "execution_count": 133,
   "metadata": {},
   "outputs": [
    {
     "data": {
      "text/plain": [
       "['bottle',\n",
       " 'orange',\n",
       " 'apple',\n",
       " 'apple',\n",
       " 'orange',\n",
       " 'orange',\n",
       " 'apple',\n",
       " 'apple',\n",
       " 'carrot',\n",
       " 'carrot',\n",
       " 'apple',\n",
       " 'apple',\n",
       " 'carrot',\n",
       " 'bowl']"
      ]
     },
     "execution_count": 133,
     "metadata": {},
     "output_type": "execute_result"
    }
   ],
   "source": [
    "r_run.json()['task']['description']"
   ]
  },
  {
   "cell_type": "code",
   "execution_count": 137,
   "metadata": {},
   "outputs": [
    {
     "data": {
      "text/plain": [
       "'C:\\\\Users\\\\alex\\\\Documents\\\\unihack2017\\\\Main\\\\Recognition'"
      ]
     },
     "execution_count": 137,
     "metadata": {},
     "output_type": "execute_result"
    }
   ],
   "source": [
    "os.path.dirname(os.path.realpath(__name__))"
   ]
  },
  {
   "cell_type": "code",
   "execution_count": null,
   "metadata": {
    "collapsed": true
   },
   "outputs": [],
   "source": []
  }
 ],
 "metadata": {
  "kernelspec": {
   "display_name": "Python 3",
   "language": "python",
   "name": "python3"
  },
  "language_info": {
   "codemirror_mode": {
    "name": "ipython",
    "version": 3
   },
   "file_extension": ".py",
   "mimetype": "text/x-python",
   "name": "python",
   "nbconvert_exporter": "python",
   "pygments_lexer": "ipython3",
   "version": "3.6.1"
  }
 },
 "nbformat": 4,
 "nbformat_minor": 2
}
